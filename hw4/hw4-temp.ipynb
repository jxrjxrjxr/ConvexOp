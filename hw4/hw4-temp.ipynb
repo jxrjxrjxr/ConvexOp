{
 "cells": [
  {
   "cell_type": "code",
   "execution_count": 1,
   "id": "2063b0d2",
   "metadata": {
    "ExecuteTime": {
     "end_time": "2021-11-01T15:27:24.683008Z",
     "start_time": "2021-11-01T15:27:23.424316Z"
    }
   },
   "outputs": [],
   "source": [
    "from scipy.io import loadmat\n",
    "X = loadmat('x.mat')"
   ]
  },
  {
   "cell_type": "code",
   "execution_count": 2,
   "id": "74ca8238",
   "metadata": {
    "ExecuteTime": {
     "end_time": "2021-11-01T15:28:17.009304Z",
     "start_time": "2021-11-01T15:28:17.002072Z"
    }
   },
   "outputs": [
    {
     "data": {
      "text/plain": [
       "(1, 1000)"
      ]
     },
     "execution_count": 2,
     "metadata": {},
     "output_type": "execute_result"
    }
   ],
   "source": [
    "X['x'].shape"
   ]
  },
  {
   "cell_type": "code",
   "execution_count": 5,
   "metadata": {},
   "outputs": [
    {
     "data": {
      "text/plain": [
       "array([0.01, 0.02, 0.03, 0.04, 0.05, 0.06, 0.07, 0.08, 0.09, 0.1 , 0.11,\n",
       "       0.12, 0.13, 0.14, 0.15, 0.16, 0.17, 0.18, 0.19, 0.2 , 0.21, 0.22,\n",
       "       0.23, 0.24, 0.25, 0.26, 0.27, 0.28, 0.29, 0.3 ])"
      ]
     },
     "execution_count": 5,
     "metadata": {},
     "output_type": "execute_result"
    }
   ],
   "source": [
    "X['x'][0, :30]"
   ]
  },
  {
   "cell_type": "code",
   "execution_count": 3,
   "id": "5575c7ea",
   "metadata": {
    "ExecuteTime": {
     "end_time": "2021-11-01T15:28:29.152186Z",
     "start_time": "2021-11-01T15:28:29.146289Z"
    }
   },
   "outputs": [],
   "source": [
    "Y = loadmat('y.mat')"
   ]
  },
  {
   "cell_type": "code",
   "execution_count": 4,
   "id": "dd9e6a96",
   "metadata": {
    "ExecuteTime": {
     "end_time": "2021-11-01T15:28:35.418088Z",
     "start_time": "2021-11-01T15:28:35.409847Z"
    }
   },
   "outputs": [
    {
     "data": {
      "text/plain": [
       "(1, 1000)"
      ]
     },
     "execution_count": 4,
     "metadata": {},
     "output_type": "execute_result"
    }
   ],
   "source": [
    "Y['y'].shape"
   ]
  },
  {
   "cell_type": "code",
   "execution_count": 7,
   "metadata": {},
   "outputs": [
    {
     "data": {
      "image/png": "[encoded data removed]",
      "text/plain": [
       "<Figure size 432x288 with 1 Axes>"
      ]
     },
     "metadata": {
      "needs_background": "light"
     },
     "output_type": "display_data"
    }
   ],
   "source": [
    "import matplotlib.pyplot as plt\n",
    "plt.figure()\n",
    "plt.plot(X['x'][0,:], Y['y'][0,:])\n",
    "plt.show()"
   ]
  },
  {
   "cell_type": "code",
   "execution_count": 10,
   "metadata": {},
   "outputs": [
    {
     "data": {
      "text/plain": [
       "12.406181785315747"
      ]
     },
     "execution_count": 10,
     "metadata": {},
     "output_type": "execute_result"
    }
   ],
   "source": [
    "import cvxpy as cp\n",
    "import numpy as np\n",
    "a = cp.Variable()\n",
    "b = cp.Variable()\n",
    "obj = cp.Minimize(cp.norm(a * X['x'][0, :] + b - Y['y'][0, :]))\n",
    "prob = cp.Problem(obj)\n",
    "prob.solve()"
   ]
  },
  {
   "cell_type": "code",
   "execution_count": 14,
   "metadata": {},
   "outputs": [
    {
     "data": {
      "text/plain": [
       "array(0.02873627)"
      ]
     },
     "execution_count": 14,
     "metadata": {},
     "output_type": "execute_result"
    }
   ],
   "source": [
    "b.value"
   ]
  },
  {
   "cell_type": "markdown",
   "metadata": {},
   "source": [
    "$$\n",
    "\\mathop{min}\\ \\lVert ax+b-y\\rVert_2\n",
    "$$"
   ]
  }
 ],
 "metadata": {
  "interpreter": {
   "hash": "f7fd32be2748ab8e6b23fc7e46e1ed98205348b052f3035de7381f582059d3f1"
  },
  "kernelspec": {
   "display_name": "Python 3.7.5 64-bit ('dyCauseEnv': conda)",
   "name": "python3"
  },
  "language_info": {
   "codemirror_mode": {
    "name": "ipython",
    "version": 3
   },
   "file_extension": ".py",
   "mimetype": "text/x-python",
   "name": "python",
   "nbconvert_exporter": "python",
   "pygments_lexer": "ipython3",
   "version": "3.7.5"
  },
  "toc": {
   "base_numbering": 1,
   "nav_menu": {},
   "number_sections": false,
   "sideBar": true,
   "skip_h1_title": false,
   "title_cell": "Table of Contents",
   "title_sidebar": "Contents",
   "toc_cell": false,
   "toc_position": {},
   "toc_section_display": true,
   "toc_window_display": false
  }
 },
 "nbformat": 4,
 "nbformat_minor": 5
}
