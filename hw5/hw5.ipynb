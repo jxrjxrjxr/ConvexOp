{
 "cells": [
  {
   "cell_type": "markdown",
   "metadata": {},
   "source": [
    "# 掷硬币问题\n",
    "\n",
    "投掷一颗硬币，观察硬币处于正面还是反面，假设硬币的投掷服从二项分布，使用最大似然参数估计法求解该问题的概率分布模型，其中二项分布中的$p$代表硬币朝上的概率。\n",
    "\n",
    "给定数据，数据中仅包含$0,1$变量，$1$，代表硬币朝上，$0$代表硬币朝下，使用最大似然估计法给出推导过程，并使用`python`统计数据，给出参数估计结果。\n",
    "\n",
    "---"
   ]
  },
  {
   "cell_type": "markdown",
   "metadata": {},
   "source": [
    "根据要求，生成硬币数据，设定向上概率$p=0.52$。"
   ]
  },
  {
   "cell_type": "code",
   "execution_count": 2,
   "metadata": {},
   "outputs": [],
   "source": [
    "import numpy as np\n",
    "p = 0.52\n",
    "n = 100000 # 模拟掷硬币100000次\n",
    "X = np.random.choice(2, n, p=[1 - p, p])"
   ]
  },
  {
   "cell_type": "markdown",
   "metadata": {},
   "source": [
    "查看数据并保存到`coin.npy`："
   ]
  },
  {
   "cell_type": "code",
   "execution_count": 5,
   "metadata": {},
   "outputs": [
    {
     "name": "stdout",
     "output_type": "stream",
     "text": [
      "Total: 100000, Up: 52095, Down: 47905\n"
     ]
    }
   ],
   "source": [
    "k = np.count_nonzero(X == 1)\n",
    "print(f'Total: {n}, Up: {k}, Down: {n-k}')\n",
    "np.save('coin.npy', X)"
   ]
  },
  {
   "cell_type": "markdown",
   "metadata": {},
   "source": [
    "我们可以看到，投掷100000次，有52095次是朝上的，符合先验的概率$p$。\n",
    "\n",
    "下面我们进行最大似然的推导。$X$的先验分布为二项分布，即：\n",
    "$$\n",
    "\\left\\{ \\begin{aligned}\n",
    "\tP\\left( x=1 \\right) &=p\\\\\n",
    "\tP\\left( x=0 \\right) &=1-p\\\\\n",
    "\\end{aligned} \\right. \n",
    "$$\n",
    "其中$p$是未知参数。实际过程中我们投掷$n$次，抛出$k$次朝上，由于每次抛硬币是相互独立的，不失一般性，我们假设前$k$次朝上。那么最大似然函数为\n",
    "$$\n",
    "\\begin{align*}\n",
    "\\max  \\prod\\nolimits_{i=1}^n{P(x_i)} &= \\max  \\sum_{i=1}^n{\\log P(x_i)} \\\\\n",
    "&= \\max  \\sum_{i=1}^k{\\begin{array}{c}\n",
    "\t\\log P(x_i=1)\\\\\n",
    "\\end{array}}+\\sum_{i=k+1}^n{\\log}P\\left( x_i=0 \\right) \n",
    "\\\\\n",
    "&= \\max \\left( k\\log p+\\left( n-k \\right) \\log \\left( 1-p \\right) \\right) \n",
    "\\end{align*}\n",
    "$$\n",
    "我们注意到最后的函数为凹函数，因此可以直接求解，令其对$p$导数为$0$可得$p=\\frac{k}{n}=0.52095$。\n",
    "我们也可以使用`cvxpy`进行求解：\n"
   ]
  },
  {
   "cell_type": "code",
   "execution_count": 6,
   "metadata": {},
   "outputs": [
    {
     "data": {
      "text/plain": [
       "-69226.91185322001"
      ]
     },
     "execution_count": 6,
     "metadata": {},
     "output_type": "execute_result"
    }
   ],
   "source": [
    "import cvxpy as cp\n",
    "p = cp.Variable()\n",
    "obj = cp.Maximize(k * cp.log(p) + (n - k) * cp.log(1 - p))\n",
    "constraints = [p >= 0, p <= 1]\n",
    "prob = cp.Problem(obj, constraints)\n",
    "prob.solve()"
   ]
  },
  {
   "cell_type": "markdown",
   "metadata": {},
   "source": [
    "输出求得的$p$值："
   ]
  },
  {
   "cell_type": "code",
   "execution_count": 8,
   "metadata": {},
   "outputs": [
    {
     "name": "stdout",
     "output_type": "stream",
     "text": [
      "The value of p is  0.52095.\n"
     ]
    }
   ],
   "source": [
    "print(f'The value of p is {p.value: .5f}.')"
   ]
  },
  {
   "cell_type": "markdown",
   "metadata": {},
   "source": [
    "故待求的抛硬币分布为\n",
    "$$\n",
    "\\left\\{ \\begin{aligned}\n",
    "\tP\\left( x=1 \\right) &=0.52095\\\\\n",
    "\tP\\left( x=0 \\right) &=0.47905\\\\\n",
    "\\end{aligned} \\right. \n",
    "$$\n",
    "这与我们开始所设置的$p=0.52$相符合。"
   ]
  }
 ],
 "metadata": {
  "interpreter": {
   "hash": "f7fd32be2748ab8e6b23fc7e46e1ed98205348b052f3035de7381f582059d3f1"
  },
  "kernelspec": {
   "display_name": "Python 3.7.5 64-bit ('dyCauseEnv': conda)",
   "name": "python3"
  },
  "language_info": {
   "codemirror_mode": {
    "name": "ipython",
    "version": 3
   },
   "file_extension": ".py",
   "mimetype": "text/x-python",
   "name": "python",
   "nbconvert_exporter": "python",
   "pygments_lexer": "ipython3",
   "version": "3.7.5"
  },
  "toc": {
   "base_numbering": 1,
   "nav_menu": {},
   "number_sections": false,
   "sideBar": true,
   "skip_h1_title": false,
   "title_cell": "Table of Contents",
   "title_sidebar": "Contents",
   "toc_cell": false,
   "toc_position": {},
   "toc_section_display": true,
   "toc_window_display": false
  }
 },
 "nbformat": 4,
 "nbformat_minor": 2
}
