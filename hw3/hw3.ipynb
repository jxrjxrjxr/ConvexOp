{
 "cells": [
  {
   "cell_type": "markdown",
   "id": "b44d41c0",
   "metadata": {},
   "source": [
    "# 第三次作业\n",
    "---\n",
    "对于下列问题，使用cvxpy工具箱求解最优解，同时也使用该问题的拉格朗日对偶形式求解最优解。\n",
    "\n",
    "1.\n",
    "$$\n",
    "maximize: c^Tx\\\\subject\\ to:Ax\\leq b\n",
    "$$\n",
    "其中\n",
    "$$\n",
    "c=\\left(\n",
    "\\begin{array}{l}\n",
    "1 \\\\\n",
    "2\n",
    "\\end{array}\n",
    "\\right),\n",
    "A=\\left(\n",
    "\\begin{array}{l}\n",
    "1 & 2 \\\\\n",
    "2 & 3\n",
    "\\end{array}\n",
    "\\right),\n",
    "b=\\left(\n",
    "\\begin{array}{l}\n",
    "7 \\\\\n",
    "9\n",
    "\\end{array}\n",
    "\\right).\n",
    "$$\n",
    "原始形式求解："
   ]
  },
  {
   "cell_type": "code",
   "execution_count": 4,
   "id": "6e3fda69",
   "metadata": {
    "ExecuteTime": {
     "end_time": "2021-10-26T08:42:11.526381Z",
     "start_time": "2021-10-26T08:42:11.492041Z"
    },
    "scrolled": true
   },
   "outputs": [
    {
     "name": "stdout",
     "output_type": "stream",
     "text": [
      "status: optimal\n",
      "optimal value 6.999999999955126\n",
      "optimal var [[-6.50593682]\n",
      " [ 6.75296841]]\n"
     ]
    }
   ],
   "source": [
    "import cvxpy as cp\n",
    "import numpy as np\n",
    "\n",
    "# Create two scalar optimization variables.\n",
    "x = cp.Variable((2, 1))\n",
    "c = np.array([[1],\n",
    "              [2]])\n",
    "A = np.array([[1, 2],\n",
    "              [2, 3]])\n",
    "b = np.array([[7],\n",
    "              [9]])\n",
    "\n",
    "# Create two constraints.\n",
    "constraints = [A @ x <= b]\n",
    "\n",
    "# Form objective.\n",
    "obj = cp.Maximize(c.T @ x)\n",
    "\n",
    "# Form and solve problem.\n",
    "prob = cp.Problem(obj, constraints)\n",
    "prob.solve()  # Returns the optimal value.\n",
    "print(\"status:\", prob.status)\n",
    "print(\"optimal value\", prob.value)\n",
    "print(\"optimal var\", x.value)"
   ]
  },
  {
   "cell_type": "markdown",
   "id": "5cefc837",
   "metadata": {},
   "source": [
    "考虑原优化问题的对偶形式。\n",
    "\n",
    "原问题改写为：\n",
    "$$\n",
    "min -c^Tx \\\\ s.t.\\ Ax\\leq b\n",
    "$$\n",
    "其Lagrange函数为\n",
    "$$\n",
    "\\begin{align*}\n",
    "L(x,v)&=-c^Tx+v^T(Ax-b)\\\\\n",
    "&=(A^Tv-c)^Tx-(b^Tv)^T\\\\\n",
    "&=-b^Tv+(A^Tv-c)^Tx\n",
    "\\end{align*}\n",
    "$$\n",
    "则其Lagrange对偶函数为：\n",
    "$$\n",
    "g(v)=\\left\\{\n",
    "\\begin{aligned}\n",
    "-b^Tv & , & A^Tv-c=0 \\\\\n",
    "-\\infty & , & otherwise\n",
    "\\end{aligned}\n",
    "\\right.\n",
    "$$\n",
    "显然，我们只考虑非平凡的情况，因此对偶形式为：\n",
    "$$\n",
    "\\begin{aligned}\n",
    "max &\\ b^Tv \\\\\n",
    "s.t.&\\ A^Tv-c=0\n",
    "\\end{aligned}\n",
    "$$\n",
    "对偶形式求解："
   ]
  },
  {
   "cell_type": "code",
   "execution_count": 6,
   "id": "6b45c093",
   "metadata": {
    "ExecuteTime": {
     "end_time": "2021-10-26T12:28:53.541475Z",
     "start_time": "2021-10-26T12:28:53.495636Z"
    }
   },
   "outputs": [
    {
     "name": "stdout",
     "output_type": "stream",
     "text": [
      "status: optimal\n",
      "optimal value 6.999999999999689\n",
      "optimal var [[1.00000000e+00]\n",
      " [1.06898384e-13]]\n"
     ]
    }
   ],
   "source": [
    "import cvxpy as cp\n",
    "import numpy as np\n",
    "\n",
    "# Create two scalar optimization variables.\n",
    "v = cp.Variable((2, 1))\n",
    "c = np.array([[1],\n",
    "              [2]])\n",
    "A = np.array([[1, 2],\n",
    "              [2, 3]])\n",
    "b = np.array([[7],\n",
    "              [9]])\n",
    "\n",
    "# Create two constraints.\n",
    "constraints = [A.T @ v - c == 0]\n",
    "\n",
    "# Form objective.\n",
    "obj = cp.Maximize(b.T @ v)\n",
    "\n",
    "# Form and solve problem.\n",
    "prob = cp.Problem(obj, constraints)\n",
    "prob.solve()  # Returns the optimal value.\n",
    "print(\"status:\", prob.status)\n",
    "print(\"optimal value\", prob.value)\n",
    "print(\"optimal var\", v.value)"
   ]
  }
 ],
 "metadata": {
  "kernelspec": {
   "display_name": "dyCauseEnv",
   "language": "python",
   "name": "dycauseenv"
  },
  "language_info": {
   "codemirror_mode": {
    "name": "ipython",
    "version": 3
   },
   "file_extension": ".py",
   "mimetype": "text/x-python",
   "name": "python",
   "nbconvert_exporter": "python",
   "pygments_lexer": "ipython3",
   "version": "3.7.5"
  },
  "toc": {
   "base_numbering": 1,
   "nav_menu": {},
   "number_sections": false,
   "sideBar": true,
   "skip_h1_title": false,
   "title_cell": "Table of Contents",
   "title_sidebar": "Contents",
   "toc_cell": false,
   "toc_position": {},
   "toc_section_display": true,
   "toc_window_display": false
  }
 },
 "nbformat": 4,
 "nbformat_minor": 5
}
